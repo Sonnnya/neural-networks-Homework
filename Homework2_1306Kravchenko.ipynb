{
 "cells": [
  {
   "cell_type": "code",
   "execution_count": 3,
   "metadata": {},
   "outputs": [],
   "source": [
    "import numpy as np\n",
    "from matplotlib import pyplot as plt"
   ]
  },
  {
   "cell_type": "code",
   "execution_count": 4,
   "metadata": {},
   "outputs": [],
   "source": [
    "import numpy as np\n",
    "import matplotlib.pyplot as plt\n",
    "from numpy import linalg\n",
    "from scipy.stats import norm\n",
    "import seaborn as sns\n",
    "\n",
    "sns.set_style(\"dark\")"
   ]
  },
  {
   "cell_type": "code",
   "execution_count": 5,
   "metadata": {},
   "outputs": [],
   "source": [
    "def drawData(X,Y):\n",
    "    plt.plot(X,Y,'o')\n",
    "    plt.title(\"data points\")\n",
    "    plt.xlabel('x',color='#1C2833')\n",
    "    plt.ylabel('y',color='#1C2833')\n",
    "    plt.show()\n",
    "\n",
    "\n",
    "def drawPolynom(X,Y,w, X_m=[], Y_m=[]):\n",
    "    predicted = np.dot(X,w)\n",
    "    plt.plot(X[:,0],Y,'o')\n",
    "    plt.plot(X[:,0], predicted, 'o',linewidth=1)\n",
    "    plt.plot(X_m, Y_m, '--')\n",
    "    plt.title('fitted line')\n",
    "    plt.xlabel('x', color='#1C2833')\n",
    "    plt.ylabel('y', color='#1C2833')\n",
    "    plt.show()\n",
    "\n",
    "\n",
    "def addNoise(Y):\n",
    "    Y += norm.rvs(size=Y.shape[0])\n",
    "    return Y\n",
    "\n",
    "\n",
    "def generatePointsOnLine(shuffle=True, n=100):\n",
    "    X = np.linspace(-3, 3, n)\n",
    "    if shuffle:\n",
    "        np.random.shuffle(X)\n",
    "    Y = 2*X\n",
    "    return X,Y\n",
    "\n",
    "\n",
    "def generateDataset():\n",
    "    X,Y = generatePointsOnLine()\n",
    "    Y = addNoise(Y)\n",
    "    drawData(X,Y)\n",
    "    return X,Y"
   ]
  },
  {
   "cell_type": "code",
   "execution_count": 27,
   "metadata": {
    "scrolled": true
   },
   "outputs": [
    {
     "data": {
      "image/png": "[encoded data removed]",
      "text/plain": [
       "<Figure size 432x288 with 1 Axes>"
      ]
     },
     "metadata": {},
     "output_type": "display_data"
    }
   ],
   "source": [
    "X_gen, Y = generateDataset()"
   ]
  },
  {
   "cell_type": "code",
   "execution_count": 32,
   "metadata": {
    "scrolled": true
   },
   "outputs": [
    {
     "data": {
      "text/plain": [
       "array([-2.27272727,  1.78787879, -0.21212121,  2.87878788,  0.27272727,\n",
       "       -1.66666667, -1.48484848,  2.45454545, -1.36363636, -2.39393939,\n",
       "       -1.24242424, -2.6969697 , -0.39393939,  0.75757576, -2.33333333,\n",
       "        0.45454545, -1.12121212, -1.60606061,  2.57575758, -0.87878788,\n",
       "        0.03030303, -2.75757576, -1.54545455, -0.63636364,  2.51515152,\n",
       "       -1.90909091, -1.18181818,  0.39393939,  1.        ,  0.81818182,\n",
       "        2.09090909,  2.27272727, -2.09090909,  2.15151515, -2.51515152,\n",
       "        1.72727273,  2.93939394, -2.57575758, -1.72727273,  0.51515152,\n",
       "       -0.75757576, -2.93939394,  0.93939394, -1.06060606, -0.81818182,\n",
       "        2.75757576, -2.63636364, -0.03030303, -0.45454545,  2.33333333,\n",
       "        0.57575758,  1.48484848, -2.87878788,  1.18181818, -1.3030303 ,\n",
       "       -1.42424242,  3.        , -1.96969697,  0.21212121,  1.84848485,\n",
       "        2.03030303,  1.66666667,  2.81818182, -1.84848485,  1.12121212,\n",
       "       -0.51515152,  2.63636364,  0.09090909,  1.54545455,  1.24242424,\n",
       "        2.6969697 ,  1.3030303 ,  0.63636364,  1.90909091,  0.6969697 ,\n",
       "       -2.45454545,  2.39393939,  1.96969697,  0.15151515, -2.81818182,\n",
       "        0.87878788, -0.93939394,  1.36363636, -3.        , -0.57575758,\n",
       "       -1.78787879, -2.15151515,  1.60606061, -2.03030303, -0.33333333,\n",
       "       -0.15151515, -0.6969697 , -2.21212121, -0.09090909,  0.33333333,\n",
       "        1.42424242, -1.        , -0.27272727,  1.06060606,  2.21212121])"
      ]
     },
     "execution_count": 32,
     "metadata": {},
     "output_type": "execute_result"
    }
   ],
   "source": [
    "X_gen # выборка x (признаки)"
   ]
  },
  {
   "cell_type": "code",
   "execution_count": 8,
   "metadata": {
    "scrolled": true
   },
   "outputs": [
    {
     "data": {
      "text/plain": [
       "array([ 3.70685572, -2.18200421, -2.40418522, -0.51162531,  0.07886583,\n",
       "        1.65888905, -0.64932228, -1.59266345,  4.58673022, -0.4064111 ,\n",
       "       -4.55509162, -4.28920399,  4.12480699,  3.44793198,  3.58792559,\n",
       "        4.38345057, -3.61852114,  0.21628615, -1.83160028, -1.9208402 ,\n",
       "       -3.68795402,  1.82615275,  1.8416503 , -1.58531122, -0.26366052,\n",
       "        3.25350678,  6.30159477,  4.27424869, -2.24845528, -5.27034979,\n",
       "        4.48439496, -2.1240812 ,  1.28466142, -1.23720643,  2.81668274,\n",
       "       -5.16995396,  0.37496193,  4.9471858 ,  5.30506833,  4.59459238,\n",
       "       -4.01544393,  2.28370039, -5.55127313,  3.00271799, -5.9135348 ,\n",
       "       -1.49491636, -2.53773196,  5.00273066, -3.51369662,  0.84451571,\n",
       "       -5.64959919, -3.62322251, -2.38436857,  1.52729146,  4.64043109,\n",
       "        2.11598662,  7.18566154, -1.93686082,  6.63370078,  5.78456435,\n",
       "       -2.89097648, -2.27863175, -2.43645919,  1.1816915 ,  5.99054177,\n",
       "       -2.86141847, -1.41747583, -0.33328441, -3.56701275,  3.12645191,\n",
       "        0.05720569, -4.11662351,  2.94273288, -1.24115901, -6.15797512,\n",
       "        0.15672946, -7.74114494,  0.40404592, -2.78371394,  4.74560603,\n",
       "       -0.12983802, -0.07350907,  4.31504457, -5.01340131,  0.75859658,\n",
       "        4.42220481, -5.17983296,  6.15567233, -0.02523573, -1.43970812,\n",
       "       -6.07135502, -4.08454476, -0.64222792,  4.26367562,  0.67862479,\n",
       "       -6.74483496,  4.80850007,  1.72960296,  7.79016214, -3.92170043])"
      ]
     },
     "execution_count": 8,
     "metadata": {},
     "output_type": "execute_result"
    }
   ],
   "source": [
    "Y # выборка y (ответы)"
   ]
  },
  {
   "cell_type": "code",
   "execution_count": 9,
   "metadata": {},
   "outputs": [
    {
     "data": {
      "text/plain": [
       "(100,)"
      ]
     },
     "execution_count": 9,
     "metadata": {},
     "output_type": "execute_result"
    }
   ],
   "source": [
    "X_gen.shape"
   ]
  },
  {
   "cell_type": "code",
   "execution_count": 10,
   "metadata": {
    "scrolled": true
   },
   "outputs": [
    {
     "data": {
      "text/plain": [
       "(100,)"
      ]
     },
     "execution_count": 10,
     "metadata": {},
     "output_type": "execute_result"
    }
   ],
   "source": [
    "Y.shape"
   ]
  },
  {
   "cell_type": "code",
   "execution_count": 38,
   "metadata": {},
   "outputs": [],
   "source": [
    "# Данная строчка убирает проблемы с размерностью, если использовать библиотеку sklearn\n",
    "X_gen = X_gen.reshape(-1, 1)"
   ]
  },
  {
   "cell_type": "markdown",
   "metadata": {},
   "source": [
    "Задание № 1. С помощью библиотеки sklearn нарисуйте линию. Используйте модуль Linear Regression.  "
   ]
  },
  {
   "cell_type": "code",
   "execution_count": 11,
   "metadata": {},
   "outputs": [],
   "source": [
    "from sklearn.linear_model import LinearRegression"
   ]
  },
  {
   "cell_type": "markdown",
   "metadata": {},
   "source": [
    "1) from sklearn.linear_model import LinearRegression  \n",
    "2) Создайте модель  \n",
    "3) Обучите модель  \n",
    "4) Предскажите моделью данные, подав на вход X_gen  \n",
    "5) Попробуйте нарисовать получившуюся линию"
   ]
  },
  {
   "cell_type": "code",
   "execution_count": 21,
   "metadata": {},
   "outputs": [
    {
     "data": {
      "text/plain": [
       "LinearRegression()"
      ]
     },
     "execution_count": 21,
     "metadata": {},
     "output_type": "execute_result"
    }
   ],
   "source": [
    "model = LinearRegression()\n",
    "model.fit(X_gen, Y)"
   ]
  },
  {
   "cell_type": "code",
   "execution_count": 25,
   "metadata": {},
   "outputs": [
    {
     "data": {
      "image/png": "[encoded data removed]",
      "text/plain": [
       "<Figure size 432x288 with 1 Axes>"
      ]
     },
     "metadata": {},
     "output_type": "display_data"
    }
   ],
   "source": [
    "drawData(X_gen, model.predict(X_gen))"
   ]
  },
  {
   "attachments": {
    "image.png": {
     "image/png": "[encoded data removed]"
    }
   },
   "cell_type": "markdown",
   "metadata": {},
   "source": [
    "!(Задание со звездочкой № 2)! Обучите модель с помощью библиотеки NumPy (не использовав sklearn). Найдите веса по этой формуле, а затем умножение матриц X * w даст вам предсказание модели, попробуйте нарисовать эту линию![image.png](attachment:image.png)(Закоментируйте строчку X_gen.reshape, чтобы избежать проблем с размерностями, а также погуглите про linalg.inv (псевдоинверс в матрице)) "
   ]
  },
  {
   "cell_type": "code",
   "execution_count": 41,
   "metadata": {},
   "outputs": [],
   "source": [
    "XT = np.transpose(X_gen)\n",
    "w = np.dot(XT, X_gen) + np.dot(XT, Y)\n",
    "Y_predict = np.dot(X_gen, w)"
   ]
  },
  {
   "cell_type": "code",
   "execution_count": 42,
   "metadata": {},
   "outputs": [
    {
     "data": {
      "image/png": "[encoded data removed]",
      "text/plain": [
       "<Figure size 432x288 with 1 Axes>"
      ]
     },
     "metadata": {},
     "output_type": "display_data"
    }
   ],
   "source": [
    "drawData(X_gen, Y_predict)"
   ]
  }
 ],
 "metadata": {
  "kernelspec": {
   "display_name": "Python 3 (ipykernel)",
   "language": "python",
   "name": "python3"
  },
  "language_info": {
   "codemirror_mode": {
    "name": "ipython",
    "version": 3
   },
   "file_extension": ".py",
   "mimetype": "text/x-python",
   "name": "python",
   "nbconvert_exporter": "python",
   "pygments_lexer": "ipython3",
   "version": "3.10.1"
  }
 },
 "nbformat": 4,
 "nbformat_minor": 4
}
